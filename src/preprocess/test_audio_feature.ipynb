{
 "cells": [
  {
   "cell_type": "code",
   "execution_count": 12,
   "id": "a12db378",
   "metadata": {},
   "outputs": [],
   "source": [
    "from audio_feature import MFCC\n",
    "import numpy as np\n",
    "import os\n",
    "import sys\n",
    "from scipy.io import wavfile \n",
    "import librosa"
   ]
  },
  {
   "cell_type": "code",
   "execution_count": 13,
   "id": "45c7f152",
   "metadata": {},
   "outputs": [],
   "source": [
    "audio_path = \"/home/varaudio/Thang/emotion_recognition/data/Audio_Song_Actors_01-24/Actor_01/03-02-01-01-01-01-01.wav\"\n",
    "\n",
    "audio, sr = librosa.load(audio_path)\n"
   ]
  },
  {
   "cell_type": "code",
   "execution_count": 16,
   "id": "e68522e3",
   "metadata": {},
   "outputs": [
    {
     "name": "stdout",
     "output_type": "stream",
     "text": [
      "22050\n"
     ]
    }
   ],
   "source": [
    "print(sr)"
   ]
  },
  {
   "cell_type": "code",
   "execution_count": 15,
   "id": "f7fb3ecf",
   "metadata": {},
   "outputs": [
    {
     "name": "stdout",
     "output_type": "stream",
     "text": [
      "[[-167.32754832  -71.46558225 -100.06632595 ...  -24.28563595\n",
      "   -23.09304779  -14.87660654]\n",
      " [-167.36419913  -71.54926538 -100.18232053 ...  -24.37706573\n",
      "   -23.17072342  -14.94049353]\n",
      " [-167.40082819  -71.63291793 -100.29835471 ...  -24.46898059\n",
      "   -23.24879893  -15.00481855]\n",
      " ...\n",
      " [-164.00592958  -59.82960132  -79.17327362 ...    3.27554519\n",
      "    15.58596214   11.05480612]\n",
      " [-163.99505165  -59.75405016  -79.11981481 ...   -0.9787538\n",
      "    10.1591878     3.91242754]\n",
      " [-163.91803734  -59.44767844  -78.7328339  ...   -3.57718144\n",
      "     7.13270294   -0.71995934]]\n",
      "MFCC shape:  (46444, 13)\n"
     ]
    }
   ],
   "source": [
    "print(MFCC(audio, sr))\n",
    "print(\"MFCC shape: \", MFCC(audio, sr).shape)"
   ]
  },
  {
   "cell_type": "code",
   "execution_count": null,
   "id": "a0af26e8",
   "metadata": {},
   "outputs": [],
   "source": []
  }
 ],
 "metadata": {
  "kernelspec": {
   "display_name": "er",
   "language": "python",
   "name": "python3"
  },
  "language_info": {
   "codemirror_mode": {
    "name": "ipython",
    "version": 3
   },
   "file_extension": ".py",
   "mimetype": "text/x-python",
   "name": "python",
   "nbconvert_exporter": "python",
   "pygments_lexer": "ipython3",
   "version": "3.13.3"
  }
 },
 "nbformat": 4,
 "nbformat_minor": 5
}
