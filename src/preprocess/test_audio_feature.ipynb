{
 "cells": [
  {
   "cell_type": "code",
   "execution_count": 12,
   "id": "a12db378",
   "metadata": {},
   "outputs": [],
   "source": [
    "from audio_feature import MFCC\n",
    "import numpy as np\n",
    "import os\n",
    "import sys\n",
    "from scipy.io import wavfile \n",
    "import librosa"
   ]
  },
  {
   "cell_type": "code",
   "execution_count": 13,
   "id": "45c7f152",
   "metadata": {},
   "outputs": [],
   "source": [
    "audio_path = \"/home/varaudio/Thang/emotion_recognition/data/Audio_Song_Actors_01-24/Actor_01/03-02-01-01-01-01-01.wav\"\n",
    "\n",
    "audio, sr = librosa.load(audio_path)\n"
   ]
  },
  {
   "cell_type": "code",
   "execution_count": 16,
   "id": "e68522e3",
   "metadata": {},
   "outputs": [
    {
     "name": "stdout",
     "output_type": "stream",
     "text": [
      "22050\n"
     ]
    }
   ],
   "source": [
    "print(sr)"
   ]
  },
  {
   "cell_type": "code",
   "execution_count": 15,
   "id": "f7fb3ecf",
   "metadata": {},
   "outputs": [
    {
     "name": "stdout",
     "output_type": "stream",
     "text": [
      "[[-167.32754832  -71.46558225 -100.06632595 ...  -24.28563595\n",
      "   -23.09304779  -14.87660654]\n",
      " [-167.36419913  -71.54926538 -100.18232053 ...  -24.37706573\n",
      "   -23.17072342  -14.94049353]\n",
      " [-167.40082819  -71.63291793 -100.29835471 ...  -24.46898059\n",
      "   -23.24879893  -15.00481855]\n",
      " ...\n",
      " [-164.00592958  -59.82960132  -79.17327362 ...    3.27554519\n",
      "    15.58596214   11.05480612]\n",
      " [-163.99505165  -59.75405016  -79.11981481 ...   -0.9787538\n",
      "    10.1591878     3.91242754]\n",
      " [-163.91803734  -59.44767844  -78.7328339  ...   -3.57718144\n",
      "     7.13270294   -0.71995934]]\n",
      "MFCC shape:  (46444, 13)\n"
     ]
    }
   ],
   "source": [
    "print(MFCC(audio, sr))\n",
    "print(\"MFCC shape: \", MFCC(audio, sr).shape)"
   ]
  },
  {
   "cell_type": "code",
   "execution_count": 1,
   "id": "a0af26e8",
   "metadata": {},
   "outputs": [
    {
     "name": "stdout",
     "output_type": "stream",
     "text": [
      "Has audio:\n"
     ]
    }
   ],
   "source": [
    "from moviepy.editor import VideoFileClip\n",
    "\n",
    "def has_audio_stream(video_path):\n",
    "    clip = VideoFileClip(video_path)\n",
    "    return clip.audio is not None\n",
    "\n",
    "# Example\n",
    "print(\"Has audio:\" if has_audio_stream(\"/home/varaudio/Thang/emotion_recognition/data/Video_Speech_Actor_05/Actor_05/02-01-04-01-02-02-05.mp4\") else \"No audio.\")"
   ]
  },
  {
   "cell_type": "code",
   "execution_count": 1,
   "id": "7c694c7d",
   "metadata": {},
   "outputs": [
    {
     "name": "stdout",
     "output_type": "stream",
     "text": [
      "start_sample: 0\n",
      "end_sample: 27420\n",
      "segment_audio: [0. 0. 0. ... 0. 0. 0.]\n",
      "segment_audio SET: {np.float32(0.0)}\n",
      "start_sample: 27420\n",
      "end_sample: 54840\n",
      "segment_audio: [0.         0.         0.         ... 0.00869751 0.00802612 0.00775146]\n",
      "start_sample: 54840\n",
      "end_sample: 82260\n",
      "segment_audio: [0.0078125  0.00793457 0.00796509 ... 0.00765991 0.00308228 0.00222778]\n",
      "start_sample: 82260\n",
      "end_sample: 109680\n",
      "segment_audio: [-0.00759888 -0.01675415 -0.00802612 ...  0.01290894  0.01174927\n",
      "  0.01126099]\n",
      "start_sample: 109680\n",
      "end_sample: 137100\n",
      "segment_audio: [ 0.00915527  0.00601196  0.00436401 ... -0.00512695 -0.00509644\n",
      " -0.00540161]\n",
      "start_sample: 137100\n",
      "end_sample: 164520\n",
      "segment_audio: [-0.00564575 -0.00537109 -0.00610352 ... -0.00323486 -0.00344849\n",
      " -0.00384521]\n",
      "start_sample: 164520\n",
      "end_sample: 191940\n",
      "segment_audio: [-0.00445557 -0.00552368 -0.00683594 ...  0.          0.\n",
      "  0.        ]\n",
      "start_sample: 191940\n",
      "end_sample: 219360\n",
      "segment_audio: [0. 0. 0. ... 0. 0. 0.]\n"
     ]
    },
    {
     "data": {
      "text/plain": [
       "'./test'"
      ]
     },
     "execution_count": 1,
     "metadata": {},
     "output_type": "execute_result"
    }
   ],
   "source": [
    "from audio_feature import extract_frames_and_mfccs\n",
    "extract_frames_and_mfccs(\"/home/varaudio/Thang/emotion_recognition/data/Video_Song_Actor_24/Actor_24/01-02-01-01-02-01-24.mp4\", \"./test\")"
   ]
  },
  {
   "cell_type": "code",
   "execution_count": null,
   "id": "78dad4ec",
   "metadata": {},
   "outputs": [],
   "source": []
  }
 ],
 "metadata": {
  "kernelspec": {
   "display_name": "er",
   "language": "python",
   "name": "python3"
  },
  "language_info": {
   "codemirror_mode": {
    "name": "ipython",
    "version": 3
   },
   "file_extension": ".py",
   "mimetype": "text/x-python",
   "name": "python",
   "nbconvert_exporter": "python",
   "pygments_lexer": "ipython3",
   "version": "3.13.3"
  }
 },
 "nbformat": 4,
 "nbformat_minor": 5
}
